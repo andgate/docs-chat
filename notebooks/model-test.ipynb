{
 "cells": [
  {
   "attachments": {},
   "cell_type": "markdown",
   "metadata": {},
   "source": [
    "Import dependencies and setup project."
   ]
  },
  {
   "cell_type": "code",
   "execution_count": 2,
   "metadata": {},
   "outputs": [
    {
     "data": {
      "text/plain": [
       "True"
      ]
     },
     "execution_count": 2,
     "metadata": {},
     "output_type": "execute_result"
    }
   ],
   "source": [
    "from dotenv import load_dotenv\n",
    "import importlib\n",
    "\n",
    "import utils.mosaic\n",
    "importlib.reload(utils.mosaic)\n",
    "from utils.mosaic import MosaicML\n",
    "\n",
    "from langchain import PromptTemplate, LLMChain\n",
    "\n",
    "load_dotenv()\n"
   ]
  },
  {
   "attachments": {},
   "cell_type": "markdown",
   "metadata": {},
   "source": [
    "Load our language model. We're using MosaicML's mpt-7b."
   ]
  },
  {
   "cell_type": "code",
   "execution_count": 4,
   "metadata": {},
   "outputs": [
    {
     "data": {
      "application/vnd.jupyter.widget-view+json": {
       "model_id": "29884eff2f4b4215860c6c910de09a28",
       "version_major": 2,
       "version_minor": 0
      },
      "text/plain": [
       "Loading checkpoint shards:   0%|          | 0/2 [00:00<?, ?it/s]"
      ]
     },
     "metadata": {},
     "output_type": "display_data"
    }
   ],
   "source": [
    "llm = MosaicML().setup()\n"
   ]
  },
  {
   "attachments": {},
   "cell_type": "markdown",
   "metadata": {},
   "source": [
    "Test the model with a simple prompt."
   ]
  },
  {
   "cell_type": "code",
   "execution_count": 11,
   "metadata": {},
   "outputs": [
    {
     "name": "stdout",
     "output_type": "stream",
     "text": [
      "\n",
      "\n",
      "\u001b[1m> Entering new LLMChain chain...\u001b[0m\n",
      "Prompt after formatting:\n",
      "\u001b[32;1m\u001b[1;3mQuestion: Who won the FIFA World Cup in the year 1994? \n",
      "\n",
      "Answer: Let's think step by step.\u001b[0m\n"
     ]
    },
    {
     "data": {
      "application/vnd.jupyter.widget-view+json": {
       "model_id": "9f613ae6c27e47e4856b6f294fb81e95",
       "version_major": 2,
       "version_minor": 0
      },
      "text/plain": [
       "Thinking:   0%|          | 0/200 [00:00<?, ?it/s]"
      ]
     },
     "metadata": {},
     "output_type": "display_data"
    },
    {
     "name": "stdout",
     "output_type": "stream",
     "text": [
      "\n",
      "\u001b[1m> Finished chain.\u001b[0m\n",
      "\n",
      "\n",
      "1) What year was it? *1994*\n",
      "\n",
      "2) What is the current year?\n",
      "\n",
      "**The current year is 2018**\n",
      "\n",
      "3) The **number of years** between 2018 and 1994 is **24**\n",
      "\n",
      "4) The FIFA World Cup was held in the year 1994.\n",
      "\n",
      "**The correct answer is Brazil.**<|endoftext|>#ruby #jotychallenge #joty2018\n",
      "<|endoftext|>#joty2018 #jotychallenge #ruby\n",
      "<|endoftext|>---\n",
      "\n",
      "#joty2018 #jotychallenge #ruby\n",
      "\n",
      "---\n",
      "\n",
      "#joty2018 #jotychallenge #ruby\n",
      "\n",
      "---\n",
      "\n",
      "#joty2018 #jotychallenge #ruby\n",
      "\n",
      "---\n",
      "\n",
      "#joty2018 #jotychallenge #ruby\n",
      "\n",
      "---\n",
      "\n",
      "#joty2018 #jotychallenge #ruby\n",
      "<|endoftext|>---\n",
      "\n",
      "#joty2018 #jotychallenge\n"
     ]
    }
   ],
   "source": [
    "llm.max_new_tokens = 200\n",
    "template = \"\"\"Question: {question}\n",
    "\n",
    "Answer: Let's think step by step.\"\"\"\n",
    "prompt = PromptTemplate(template=template, input_variables=[\"question\"])\n",
    "llm_chain = LLMChain(prompt=prompt, llm=llm, verbose=True)\n",
    "question = \"Who won the FIFA World Cup in the year 1994? \"\n",
    "\n",
    "print(llm_chain.run(question))"
   ]
  }
 ],
 "metadata": {
  "kernelspec": {
   "display_name": "docs-chat",
   "language": "python",
   "name": "python3"
  },
  "language_info": {
   "codemirror_mode": {
    "name": "ipython",
    "version": 3
   },
   "file_extension": ".py",
   "mimetype": "text/x-python",
   "name": "python",
   "nbconvert_exporter": "python",
   "pygments_lexer": "ipython3",
   "version": "3.10.11"
  },
  "orig_nbformat": 4
 },
 "nbformat": 4,
 "nbformat_minor": 2
}
